{
 "cells": [
  {
   "cell_type": "markdown",
   "id": "119a1e0a",
   "metadata": {},
   "source": [
    "# Practice Problems\n",
    "**Practice problems for Lesson 1: Functions, Generators, and Files**\n",
    "- [Higher-Order Functions](#higher-order-functions)"
   ]
  },
  {
   "cell_type": "markdown",
   "id": "477bad9f",
   "metadata": {},
   "source": [
    "<br>\n",
    "\n",
    "## Higher-Order Functions"
   ]
  },
  {
   "cell_type": "markdown",
   "id": "d65ff056",
   "metadata": {},
   "source": [
    "---\n",
    "### Question 1\n",
    "\n",
    "Write a `select` function that mimics the built-in filter function. Your `select` function should take two arguments: a `callback` function and an `iterable` object. It should return a list of all the elements of the iterable for which the callback function returns a truthy value. It should not include any elements for which the callback returns a falsy value.\n",
    "\n",
    "Start by writing a function that doesn't use any comprehensions. Once your code works, refactor it to use a comprehension."
   ]
  },
  {
   "cell_type": "code",
   "execution_count": null,
   "id": "7f8cec07",
   "metadata": {},
   "outputs": [],
   "source": [
    "def select(callback, iterable) -> list:\n",
    "    \"\"\"\n",
    "    returns all elems from iterable that return a\n",
    "    Truthy value when called with the callback\n",
    "    \"\"\"\n",
    "    selected = []\n",
    "    for elem in iterable:\n",
    "        if callback(elem):\n",
    "            selected.append(elem)\n",
    "    return selected\n",
    "\n",
    "\n",
    "def select(callback, iterable) -> list:\n",
    "    \"\"\"\n",
    "    returns all elems from iterable that return a \n",
    "    Truthy value when called with the callback\n",
    "    \"\"\"\n",
    "    return [elem for elem in iterable if callback(elem)]\n",
    "    \n",
    "\n",
    "numbers = [1, 2, 3, 4, 5]\n",
    "colors = {'red', 'orange', 'yellow', 'green',\n",
    "          'blue', 'indigo', 'violet'}\n",
    "\n",
    "odd_numbers = select(lambda number: number % 2 != 0, numbers)\n",
    "assert odd_numbers == [1, 3, 5]\n",
    "\n",
    "large_numbers = select(lambda number: number >= 10, numbers)\n",
    "assert large_numbers == []\n",
    "\n",
    "small_numbers = select(lambda number: number < 10, numbers)\n",
    "assert small_numbers == [1, 2, 3, 4, 5]\n",
    "\n",
    "short_color_names = select(lambda color: len(color) <= 5, colors)\n",
    "assert set(short_color_names) == {'blue', 'red', 'green'}"
   ]
  },
  {
   "cell_type": "markdown",
   "id": "7a544a50",
   "metadata": {},
   "source": [
    "---\n",
    "### Question 2\n",
    "\n",
    "Write a `reject` function that mimics the select function you just wrote, but that rejects rather than selects elements from the iterable object. That is, it should return a list of all the elements of the iterable for which the callback function doesn't return a truthy value. It should only include any elements for which the callback returns a falsy value.\n",
    "\n",
    "You may use comprehensions if you wish."
   ]
  },
  {
   "cell_type": "code",
   "execution_count": 5,
   "id": "a7fa50f6",
   "metadata": {},
   "outputs": [],
   "source": [
    "def reject(callback, iterable) -> list:\n",
    "    \"\"\"\n",
    "    returns all elems from iterable that return a \n",
    "    Truthy value when called with the callback\n",
    "    \"\"\"\n",
    "    return [elem for elem in iterable if not callback(elem)]\n",
    "\n",
    "\n",
    "numbers = [1, 2, 3, 4, 5]\n",
    "colors = {'red', 'orange', 'yellow', 'green',\n",
    "          'blue', 'indigo', 'violet'}\n",
    "\n",
    "even_numbers = reject(lambda number: number % 2 != 0, numbers)\n",
    "assert even_numbers == [2, 4]\n",
    "\n",
    "small_numbers = reject(lambda number: number >= 10, numbers)\n",
    "assert small_numbers == [1, 2, 3, 4, 5]\n",
    "\n",
    "large_numbers = reject(lambda number: number < 10, numbers)\n",
    "assert large_numbers == []\n",
    "\n",
    "long_color_names = reject(lambda color: len(color) <= 5, colors)\n",
    "assert set(long_color_names) == {'yellow', 'violet', 'orange', 'indigo'}"
   ]
  }
 ],
 "metadata": {
  "kernelspec": {
   "display_name": "Python 3",
   "language": "python",
   "name": "python3"
  },
  "language_info": {
   "codemirror_mode": {
    "name": "ipython",
    "version": 3
   },
   "file_extension": ".py",
   "mimetype": "text/x-python",
   "name": "python",
   "nbconvert_exporter": "python",
   "pygments_lexer": "ipython3",
   "version": "3.11.11"
  }
 },
 "nbformat": 4,
 "nbformat_minor": 5
}
