{
 "cells": [
  {
   "cell_type": "markdown",
   "id": "119a1e0a",
   "metadata": {},
   "source": [
    "# Practice Problems\n",
    "**Practice problems for Lesson 1: Functions, Generators, and Files**\n",
    "- [Higher-Order Functions](#higher-order-functions)\n",
    "- [Generators](#generators)"
   ]
  },
  {
   "cell_type": "markdown",
   "id": "477bad9f",
   "metadata": {},
   "source": [
    "<br>\n",
    "\n",
    "## Higher-Order Functions"
   ]
  },
  {
   "cell_type": "markdown",
   "id": "d65ff056",
   "metadata": {},
   "source": [
    "---\n",
    "### Question 1\n",
    "\n",
    "Write a `select` function that mimics the built-in filter function. Your `select` function should take two arguments: a `callback` function and an `iterable` object. It should return a list of all the elements of the iterable for which the callback function returns a truthy value. It should not include any elements for which the callback returns a falsy value.\n",
    "\n",
    "Start by writing a function that doesn't use any comprehensions. Once your code works, refactor it to use a comprehension."
   ]
  },
  {
   "cell_type": "code",
   "execution_count": null,
   "id": "7f8cec07",
   "metadata": {},
   "outputs": [],
   "source": [
    "def select(callback, iterable) -> list:\n",
    "    \"\"\"\n",
    "    returns all elems from iterable that return a\n",
    "    Truthy value when called with the callback\n",
    "    \"\"\"\n",
    "    selected = []\n",
    "    for elem in iterable:\n",
    "        if callback(elem):\n",
    "            selected.append(elem)\n",
    "    return selected\n",
    "\n",
    "\n",
    "def select(callback, iterable) -> list:\n",
    "    \"\"\"\n",
    "    returns all elems from iterable that return a \n",
    "    Truthy value when called with the callback\n",
    "    \"\"\"\n",
    "    return [elem for elem in iterable if callback(elem)]\n",
    "    \n",
    "\n",
    "numbers = [1, 2, 3, 4, 5]\n",
    "colors = {'red', 'orange', 'yellow', 'green',\n",
    "          'blue', 'indigo', 'violet'}\n",
    "\n",
    "odd_numbers = select(lambda number: number % 2 != 0, numbers)\n",
    "assert odd_numbers == [1, 3, 5]\n",
    "\n",
    "large_numbers = select(lambda number: number >= 10, numbers)\n",
    "assert large_numbers == []\n",
    "\n",
    "small_numbers = select(lambda number: number < 10, numbers)\n",
    "assert small_numbers == [1, 2, 3, 4, 5]\n",
    "\n",
    "short_color_names = select(lambda color: len(color) <= 5, colors)\n",
    "assert set(short_color_names) == {'blue', 'red', 'green'}"
   ]
  },
  {
   "cell_type": "markdown",
   "id": "7a544a50",
   "metadata": {},
   "source": [
    "---\n",
    "### Question 2\n",
    "\n",
    "Write a `reject` function that mimics the select function you just wrote, but that rejects rather than selects elements from the iterable object. That is, it should return a list of all the elements of the iterable for which the callback function doesn't return a truthy value. It should only include any elements for which the callback returns a falsy value.\n",
    "\n",
    "You may use comprehensions if you wish."
   ]
  },
  {
   "cell_type": "code",
   "execution_count": 5,
   "id": "a7fa50f6",
   "metadata": {},
   "outputs": [],
   "source": [
    "def reject(callback, iterable) -> list:\n",
    "    \"\"\"\n",
    "    returns all elems from iterable that return a \n",
    "    Truthy value when called with the callback\n",
    "    \"\"\"\n",
    "    return [elem for elem in iterable if not callback(elem)]\n",
    "\n",
    "\n",
    "numbers = [1, 2, 3, 4, 5]\n",
    "colors = {'red', 'orange', 'yellow', 'green',\n",
    "          'blue', 'indigo', 'violet'}\n",
    "\n",
    "even_numbers = reject(lambda number: number % 2 != 0, numbers)\n",
    "assert even_numbers == [2, 4]\n",
    "\n",
    "small_numbers = reject(lambda number: number >= 10, numbers)\n",
    "assert small_numbers == [1, 2, 3, 4, 5]\n",
    "\n",
    "large_numbers = reject(lambda number: number < 10, numbers)\n",
    "assert large_numbers == []\n",
    "\n",
    "long_color_names = reject(lambda color: len(color) <= 5, colors)\n",
    "assert set(long_color_names) == {'yellow', 'violet', 'orange', 'indigo'}"
   ]
  },
  {
   "cell_type": "markdown",
   "id": "83bedaa2",
   "metadata": {},
   "source": [
    "---\n",
    "### Question 3\n",
    "\n",
    "A function that often appears in languages that have map and filter functions is called the reduce function, or, sometimes, inject. Python has one tucked away in the functools module, but we won't be using it in this challenge.\n",
    "\n",
    "The reduce function reduces the elements in an iterable object to a single value. For instance, reduce can return the sum of all numbers in a list or concatenate the strings in a tuple to form a single long string. It's a bit like map, but instead of returning a new collection, it just returns a single value.\n",
    "\n",
    "reduce functions typically take 3 arguments:\n",
    "\n",
    "- a callback that takes two arguments. The first argument is the current element of the iterable argument and the second is the current reduction value, commonly called the \"accumulator\" and named accum.\n",
    "- an iterable.\n",
    "- a starting value. The starting value is the initial value for the current argument in the callback.\n",
    "\n",
    "For instance, consider the following reduce invocation:\n",
    "\n",
    "```python\n",
    "numbers = [10, 3, 5]\n",
    "product = lambda number, accum: accum * number\n",
    "print(reduce(product, numbers, 2))     # 300\n",
    "```\n",
    "\n",
    "Your job in this problem is to implement `reduce`. Beware: this may be a challenging problem. We recommend not using comprehensions.\n"
   ]
  },
  {
   "cell_type": "code",
   "execution_count": 6,
   "id": "3746604b",
   "metadata": {},
   "outputs": [],
   "source": [
    "def reduce(callback, iterable, accumulator):\n",
    "    \"\"\"modifies the accumulator with the mapped elems called by the callback function\"\"\"\n",
    "    for elem in iterable:\n",
    "        accumulator = callback(elem, accumulator)\n",
    "    return accumulator\n",
    "\n",
    "\n",
    "numbers = (1, 2, 4, 8, 16)\n",
    "total = lambda number, accum: accum + number\n",
    "assert reduce(total, numbers, 0) == 31\n",
    "\n",
    "numbers = [10, 3, 5]\n",
    "product = lambda number, accum: accum * number\n",
    "assert reduce(product, numbers, 2) == 300\n",
    "\n",
    "colors = ['red', 'orange', 'yellow', 'green',\n",
    "          'blue', 'indigo', 'violet']\n",
    "rainbow = lambda color, accum: accum + color[0].upper()\n",
    "assert reduce(rainbow, colors, '') == \"ROYGBIV\""
   ]
  },
  {
   "cell_type": "markdown",
   "id": "e347670d",
   "metadata": {},
   "source": [
    "---\n",
    "### Question 4\n",
    "Use the `reduce` function shown in the answer to the previous question to compute the sum of the squares in a list of numbers.\n"
   ]
  },
  {
   "cell_type": "code",
   "execution_count": null,
   "id": "2d0ff4f6",
   "metadata": {},
   "outputs": [],
   "source": [
    "numbers = (1, 2, 4, 8, 16)\n",
    "sum_of_squares = reduce(lambda num, accum: accum + num**2, numbers, 0)\n",
    "assert sum_of_squares == 341"
   ]
  },
  {
   "cell_type": "markdown",
   "id": "1646a4ad",
   "metadata": {},
   "source": [
    "<br>\n",
    "\n",
    "## Generators"
   ]
  },
  {
   "cell_type": "markdown",
   "id": "c1d503a5",
   "metadata": {},
   "source": [
    "---\n",
    "### Question 1\n",
    "Create a generator expression that generates the reciprocals of the numbers from 1 to 10. A reciprocal of a number `n` is `1 / n`. Use a `for` loop to print each value."
   ]
  },
  {
   "cell_type": "code",
   "execution_count": 9,
   "id": "eea29ff7",
   "metadata": {},
   "outputs": [
    {
     "name": "stdout",
     "output_type": "stream",
     "text": [
      "1.0\n",
      "0.5\n",
      "0.3333333333333333\n",
      "0.25\n",
      "0.2\n",
      "0.16666666666666666\n",
      "0.14285714285714285\n",
      "0.125\n",
      "0.1111111111111111\n",
      "0.1\n"
     ]
    }
   ],
   "source": [
    "reciprocals = (1 / n for n in range(1, 11))\n",
    "\n",
    "for n in reciprocals:\n",
    "    print(n)"
   ]
  },
  {
   "cell_type": "markdown",
   "id": "a0fd2fcb",
   "metadata": {},
   "source": [
    "---\n",
    "### Question 2\n",
    "\n",
    "Create a generator function that generates the reciprocals of the numbers from 1 to n, where n is an argument to the function. Use a for loop to print each value."
   ]
  },
  {
   "cell_type": "code",
   "execution_count": 13,
   "id": "556ed55c",
   "metadata": {},
   "outputs": [
    {
     "name": "stdout",
     "output_type": "stream",
     "text": [
      "1.0\n",
      "0.5\n",
      "0.3333333333333333\n",
      "0.25\n",
      "0.2\n",
      "0.16666666666666666\n",
      "0.14285714285714285\n",
      "0.125\n",
      "0.1111111111111111\n",
      "0.1\n"
     ]
    }
   ],
   "source": [
    "def reciprocals(n: int):\n",
    "    \"\"\"Generates the reciprocals of numbers from 1 to n\"\"\"\n",
    "    for num in range (1, n+1):\n",
    "        yield 1 / num \n",
    "\n",
    "for n in reciprocals(10):\n",
    "    print(n)"
   ]
  },
  {
   "cell_type": "markdown",
   "id": "fe3c38d3",
   "metadata": {},
   "source": [
    "---\n",
    "### Question 3\n",
    "\n",
    "Use a generator expression to capitalize every string in a list of strings. Use a single print invocation to print all the capitalized strings as a tuple."
   ]
  },
  {
   "cell_type": "code",
   "execution_count": 15,
   "id": "0a7c2f05",
   "metadata": {},
   "outputs": [
    {
     "name": "stdout",
     "output_type": "stream",
     "text": [
      "('A', 'List', 'Of', 'Strings')\n"
     ]
    }
   ],
   "source": [
    "strings = [\"a\", \"list\", \"of\", \"strings\"]\n",
    "capitalized = (s.capitalize() for s in strings)\n",
    "print(tuple(capitalized))"
   ]
  },
  {
   "cell_type": "markdown",
   "id": "f27c4cca",
   "metadata": {},
   "source": [
    "---\n",
    "### Question 4\n",
    "\n",
    "Create a generator function that generates the capitalized version of every string in a list of strings. Use a single print invocation to print all the capitalized strings as a tuple."
   ]
  },
  {
   "cell_type": "code",
   "execution_count": 16,
   "id": "79ec20a6",
   "metadata": {},
   "outputs": [
    {
     "name": "stdout",
     "output_type": "stream",
     "text": [
      "A\n",
      "List\n",
      "Of\n",
      "Strings\n"
     ]
    }
   ],
   "source": [
    "def capitalized(strings: list):\n",
    "    for s in strings:\n",
    "        yield s.capitalize()\n",
    "\n",
    "strings = [\"a\", \"list\", \"of\", \"strings\"]\n",
    "\n",
    "for s in capitalized(strings):\n",
    "    print(s)"
   ]
  },
  {
   "cell_type": "markdown",
   "id": "412c8c2f",
   "metadata": {},
   "source": [
    "---\n",
    "### Question 5\n",
    "\n",
    "Use a generator expression to capitalize the strings in a list of strings whose length is at least 5. Use a single print invocation to print all the capitalized strings as a set."
   ]
  },
  {
   "cell_type": "code",
   "execution_count": 17,
   "id": "ba413994",
   "metadata": {},
   "outputs": [
    {
     "name": "stdout",
     "output_type": "stream",
     "text": [
      "{'Strings'}\n"
     ]
    }
   ],
   "source": [
    "strings = [\"a\", \"list\", \"of\", \"strings\"]\n",
    "capitalized_over_5 = (s.capitalize() for s in strings if len(s) > 5)\n",
    "print(set(capitalized_over_5))"
   ]
  },
  {
   "cell_type": "markdown",
   "id": "38ff5828",
   "metadata": {},
   "source": [
    "---\n",
    "### Question 6\n",
    "\n",
    "Create a generator function that generates the capitalized version of every string in a list of strings whose length is less than 5. Use a single print invocation to print all the capitalized strings as a set."
   ]
  },
  {
   "cell_type": "code",
   "execution_count": 18,
   "id": "d035fdb6",
   "metadata": {},
   "outputs": [
    {
     "name": "stdout",
     "output_type": "stream",
     "text": [
      "{'Of', 'A', 'List'}\n"
     ]
    }
   ],
   "source": [
    "def capitalize_less_than_5(strings: list):\n",
    "    for s in strings:\n",
    "        if len(s) < 5:\n",
    "            yield s.capitalize()\n",
    "\n",
    "strings = [\"a\", \"list\", \"of\", \"strings\"]\n",
    "print(set(capitalize_less_than_5(strings)))         "
   ]
  }
 ],
 "metadata": {
  "kernelspec": {
   "display_name": "Python 3",
   "language": "python",
   "name": "python3"
  },
  "language_info": {
   "codemirror_mode": {
    "name": "ipython",
    "version": 3
   },
   "file_extension": ".py",
   "mimetype": "text/x-python",
   "name": "python",
   "nbconvert_exporter": "python",
   "pygments_lexer": "ipython3",
   "version": "3.11.11"
  }
 },
 "nbformat": 4,
 "nbformat_minor": 5
}
