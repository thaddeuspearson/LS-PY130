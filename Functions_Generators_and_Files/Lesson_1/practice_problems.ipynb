{
 "cells": [
  {
   "cell_type": "markdown",
   "id": "119a1e0a",
   "metadata": {},
   "source": [
    "# Practice Problems\n",
    "**Practice problems for Lesson 1: Functions, Generators, and Files**\n",
    "- [Higher-Order Functions](#higher-order-functions)"
   ]
  },
  {
   "cell_type": "markdown",
   "id": "477bad9f",
   "metadata": {},
   "source": [
    "<br>\n",
    "\n",
    "## Higher-Order Functions"
   ]
  },
  {
   "cell_type": "markdown",
   "id": "d65ff056",
   "metadata": {},
   "source": [
    "---\n",
    "### Question 1\n",
    "\n",
    "Write a `select` function that mimics the built-in filter function. Your `select` function should take two arguments: a `callback` function and an `iterable` object. It should return a list of all the elements of the iterable for which the callback function returns a truthy value. It should not include any elements for which the callback returns a falsy value.\n",
    "\n",
    "Start by writing a function that doesn't use any comprehensions. Once your code works, refactor it to use a comprehension."
   ]
  },
  {
   "cell_type": "code",
   "execution_count": null,
   "id": "7f8cec07",
   "metadata": {},
   "outputs": [],
   "source": [
    "def select(callback, iterable) -> list:\n",
    "    \"\"\"\n",
    "    returns all elems from iterable that return a\n",
    "    Truthy value when called with the callback\n",
    "    \"\"\"\n",
    "    selected = []\n",
    "    for elem in iterable:\n",
    "        if callback(elem):\n",
    "            selected.append(elem)\n",
    "    return selected\n",
    "\n",
    "\n",
    "def select(callback, iterable) -> list:\n",
    "    \"\"\"\n",
    "    returns all elems from iterable that return a \n",
    "    Truthy value when called with the callback\n",
    "    \"\"\"\n",
    "    return [elem for elem in iterable if callback(elem)]\n",
    "    \n",
    "\n",
    "numbers = [1, 2, 3, 4, 5]\n",
    "colors = {'red', 'orange', 'yellow', 'green',\n",
    "          'blue', 'indigo', 'violet'}\n",
    "\n",
    "odd_numbers = select(lambda number: number % 2 != 0, numbers)\n",
    "assert odd_numbers == [1, 3, 5]\n",
    "\n",
    "large_numbers = select(lambda number: number >= 10, numbers)\n",
    "assert large_numbers == []\n",
    "\n",
    "small_numbers = select(lambda number: number < 10, numbers)\n",
    "assert small_numbers == [1, 2, 3, 4, 5]\n",
    "\n",
    "short_color_names = select(lambda color: len(color) <= 5, colors)\n",
    "assert set(short_color_names) == {'blue', 'red', 'green'}"
   ]
  },
  {
   "cell_type": "markdown",
   "id": "7a544a50",
   "metadata": {},
   "source": [
    "---\n",
    "### Question 2\n",
    "\n",
    "Write a `reject` function that mimics the select function you just wrote, but that rejects rather than selects elements from the iterable object. That is, it should return a list of all the elements of the iterable for which the callback function doesn't return a truthy value. It should only include any elements for which the callback returns a falsy value.\n",
    "\n",
    "You may use comprehensions if you wish."
   ]
  },
  {
   "cell_type": "code",
   "execution_count": 5,
   "id": "a7fa50f6",
   "metadata": {},
   "outputs": [],
   "source": [
    "def reject(callback, iterable) -> list:\n",
    "    \"\"\"\n",
    "    returns all elems from iterable that return a \n",
    "    Truthy value when called with the callback\n",
    "    \"\"\"\n",
    "    return [elem for elem in iterable if not callback(elem)]\n",
    "\n",
    "\n",
    "numbers = [1, 2, 3, 4, 5]\n",
    "colors = {'red', 'orange', 'yellow', 'green',\n",
    "          'blue', 'indigo', 'violet'}\n",
    "\n",
    "even_numbers = reject(lambda number: number % 2 != 0, numbers)\n",
    "assert even_numbers == [2, 4]\n",
    "\n",
    "small_numbers = reject(lambda number: number >= 10, numbers)\n",
    "assert small_numbers == [1, 2, 3, 4, 5]\n",
    "\n",
    "large_numbers = reject(lambda number: number < 10, numbers)\n",
    "assert large_numbers == []\n",
    "\n",
    "long_color_names = reject(lambda color: len(color) <= 5, colors)\n",
    "assert set(long_color_names) == {'yellow', 'violet', 'orange', 'indigo'}"
   ]
  },
  {
   "cell_type": "markdown",
   "id": "83bedaa2",
   "metadata": {},
   "source": [
    "---\n",
    "### Question 3\n",
    "\n",
    "A function that often appears in languages that have map and filter functions is called the reduce function, or, sometimes, inject. Python has one tucked away in the functools module, but we won't be using it in this challenge.\n",
    "\n",
    "The reduce function reduces the elements in an iterable object to a single value. For instance, reduce can return the sum of all numbers in a list or concatenate the strings in a tuple to form a single long string. It's a bit like map, but instead of returning a new collection, it just returns a single value.\n",
    "\n",
    "reduce functions typically take 3 arguments:\n",
    "\n",
    "- a callback that takes two arguments. The first argument is the current element of the iterable argument and the second is the current reduction value, commonly called the \"accumulator\" and named accum.\n",
    "- an iterable.\n",
    "- a starting value. The starting value is the initial value for the current argument in the callback.\n",
    "\n",
    "For instance, consider the following reduce invocation:\n",
    "\n",
    "```python\n",
    "numbers = [10, 3, 5]\n",
    "product = lambda number, accum: accum * number\n",
    "print(reduce(product, numbers, 2))     # 300\n",
    "```\n",
    "\n",
    "Your job in this problem is to implement `reduce`. Beware: this may be a challenging problem. We recommend not using comprehensions.\n"
   ]
  },
  {
   "cell_type": "code",
   "execution_count": 6,
   "id": "3746604b",
   "metadata": {},
   "outputs": [],
   "source": [
    "def reduce(callback, iterable, accumulator):\n",
    "    \"\"\"modifies the accumulator with the mapped elems called by the callback function\"\"\"\n",
    "    for elem in iterable:\n",
    "        accumulator = callback(elem, accumulator)\n",
    "    return accumulator\n",
    "\n",
    "\n",
    "numbers = (1, 2, 4, 8, 16)\n",
    "total = lambda number, accum: accum + number\n",
    "assert reduce(total, numbers, 0) == 31\n",
    "\n",
    "numbers = [10, 3, 5]\n",
    "product = lambda number, accum: accum * number\n",
    "assert reduce(product, numbers, 2) == 300\n",
    "\n",
    "colors = ['red', 'orange', 'yellow', 'green',\n",
    "          'blue', 'indigo', 'violet']\n",
    "rainbow = lambda color, accum: accum + color[0].upper()\n",
    "assert reduce(rainbow, colors, '') == \"ROYGBIV\""
   ]
  }
 ],
 "metadata": {
  "kernelspec": {
   "display_name": "Python 3",
   "language": "python",
   "name": "python3"
  },
  "language_info": {
   "codemirror_mode": {
    "name": "ipython",
    "version": 3
   },
   "file_extension": ".py",
   "mimetype": "text/x-python",
   "name": "python",
   "nbconvert_exporter": "python",
   "pygments_lexer": "ipython3",
   "version": "3.11.11"
  }
 },
 "nbformat": 4,
 "nbformat_minor": 5
}
