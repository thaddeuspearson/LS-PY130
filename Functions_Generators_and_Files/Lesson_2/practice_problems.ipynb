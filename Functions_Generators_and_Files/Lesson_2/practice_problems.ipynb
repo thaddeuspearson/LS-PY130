{
 "cells": [
  {
   "cell_type": "markdown",
   "id": "3f352c60",
   "metadata": {},
   "source": [
    "# Practice Problems\n",
    "**Practice problems for Lesson 2: Advanced Concepts**\n",
    "- [Arguments and Parameters](#arguments-and-parameters)\n",
    "- [Iterable Unpacking](#iterable-unpacking)\n",
    "- [Closures]()"
   ]
  },
  {
   "cell_type": "markdown",
   "id": "4515fef6",
   "metadata": {},
   "source": [
    "<br>\n",
    "\n",
    "## Arguments and Parameters"
   ]
  },
  {
   "cell_type": "markdown",
   "id": "574698a3",
   "metadata": {},
   "source": [
    "---\n",
    "### Question 1\n",
    "\n",
    "Write a function named `combine` that takes three positional arguments and returns a tuple containing all three. Call this function with three different values."
   ]
  },
  {
   "cell_type": "code",
   "execution_count": 1,
   "id": "e6295a77",
   "metadata": {},
   "outputs": [
    {
     "data": {
      "text/plain": [
       "('thaddeus', 12345, 38)"
      ]
     },
     "execution_count": 1,
     "metadata": {},
     "output_type": "execute_result"
    }
   ],
   "source": [
    "def combine(name: str, id: int, age: int) -> tuple:\n",
    "    return (name, id, age)\n",
    "\n",
    "combine(\"thaddeus\", 12345, 38)"
   ]
  },
  {
   "cell_type": "markdown",
   "id": "7e7d0fab",
   "metadata": {},
   "source": [
    "---\n",
    "Question 2\n",
    "\n",
    "Define a function named `multiply` that accepts two positional-only arguments and returns their product. The function should not allow these parameters to be passed as keyword arguments."
   ]
  },
  {
   "cell_type": "code",
   "execution_count": 3,
   "id": "c9737ec0",
   "metadata": {},
   "outputs": [],
   "source": [
    "def multiply(num_1: int, num_2: int, /) -> int:\n",
    "    return num_1 * num_2\n",
    "\n",
    "assert multiply(1, 100) == 100\n",
    "try:\n",
    "    multiply(num_1=2, num_2=3)\n",
    "except TypeError:\n",
    "    assert multiply(2, 4) == 8"
   ]
  },
  {
   "cell_type": "markdown",
   "id": "816e049f",
   "metadata": {},
   "source": [
    "<br>\n",
    "\n",
    "## Iterable Unpacking"
   ]
  },
  {
   "cell_type": "markdown",
   "id": "96e1cb09",
   "metadata": {},
   "source": [
    "---\n",
    "### Question 1"
   ]
  },
  {
   "cell_type": "markdown",
   "id": "139e4ec5",
   "metadata": {},
   "source": [
    "<br>\n",
    "\n",
    "## Closures"
   ]
  },
  {
   "cell_type": "markdown",
   "id": "36ac5387",
   "metadata": {},
   "source": [
    "---\n",
    "### Question 1"
   ]
  }
 ],
 "metadata": {
  "kernelspec": {
   "display_name": "Python 3",
   "language": "python",
   "name": "python3"
  },
  "language_info": {
   "codemirror_mode": {
    "name": "ipython",
    "version": 3
   },
   "file_extension": ".py",
   "mimetype": "text/x-python",
   "name": "python",
   "nbconvert_exporter": "python",
   "pygments_lexer": "ipython3",
   "version": "3.11.11"
  }
 },
 "nbformat": 4,
 "nbformat_minor": 5
}
