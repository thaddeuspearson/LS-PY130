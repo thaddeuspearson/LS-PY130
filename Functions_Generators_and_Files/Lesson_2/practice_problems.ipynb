{
 "cells": [
  {
   "cell_type": "markdown",
   "id": "3f352c60",
   "metadata": {},
   "source": [
    "# Practice Problems\n",
    "**Practice problems for Lesson 2: Advanced Concepts**\n",
    "- [Arguments and Parameters](#arguments-and-parameters)\n",
    "- [Iterable Unpacking](#iterable-unpacking)\n",
    "- [Closures]()"
   ]
  },
  {
   "cell_type": "markdown",
   "id": "4515fef6",
   "metadata": {},
   "source": [
    "<br>\n",
    "\n",
    "## Arguments and Parameters"
   ]
  },
  {
   "cell_type": "markdown",
   "id": "574698a3",
   "metadata": {},
   "source": [
    "---\n",
    "### Question 1"
   ]
  },
  {
   "cell_type": "markdown",
   "id": "816e049f",
   "metadata": {},
   "source": [
    "<br>\n",
    "\n",
    "## Iterable Unpacking"
   ]
  },
  {
   "cell_type": "markdown",
   "id": "96e1cb09",
   "metadata": {},
   "source": [
    "---\n",
    "### Question 1"
   ]
  },
  {
   "cell_type": "markdown",
   "id": "139e4ec5",
   "metadata": {},
   "source": [
    "<br>\n",
    "\n",
    "## Closures"
   ]
  },
  {
   "cell_type": "markdown",
   "id": "36ac5387",
   "metadata": {},
   "source": [
    "---\n",
    "### Question 1"
   ]
  }
 ],
 "metadata": {
  "language_info": {
   "name": "python"
  }
 },
 "nbformat": 4,
 "nbformat_minor": 5
}
