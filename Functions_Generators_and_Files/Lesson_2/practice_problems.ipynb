{
 "cells": [
  {
   "cell_type": "markdown",
   "id": "3f352c60",
   "metadata": {},
   "source": [
    "# Practice Problems\n",
    "**Practice problems for Lesson 2: Advanced Concepts**\n",
    "- [Arguments and Parameters](#arguments-and-parameters)\n",
    "- [Iterable Unpacking](#iterable-unpacking)\n",
    "- [Closures]()"
   ]
  },
  {
   "cell_type": "markdown",
   "id": "4515fef6",
   "metadata": {},
   "source": [
    "<br>\n",
    "\n",
    "## Arguments and Parameters"
   ]
  },
  {
   "cell_type": "markdown",
   "id": "574698a3",
   "metadata": {},
   "source": [
    "---\n",
    "### Question 1\n",
    "\n",
    "Write a function named `combine` that takes three positional arguments and returns a tuple containing all three. Call this function with three different values."
   ]
  },
  {
   "cell_type": "code",
   "execution_count": 1,
   "id": "e6295a77",
   "metadata": {},
   "outputs": [
    {
     "data": {
      "text/plain": [
       "('thaddeus', 12345, 38)"
      ]
     },
     "execution_count": 1,
     "metadata": {},
     "output_type": "execute_result"
    }
   ],
   "source": [
    "def combine(name: str, id: int, age: int) -> tuple:\n",
    "    return (name, id, age)\n",
    "\n",
    "combine(\"thaddeus\", 12345, 38)"
   ]
  },
  {
   "cell_type": "markdown",
   "id": "7e7d0fab",
   "metadata": {},
   "source": [
    "---\n",
    "Question 2\n",
    "\n",
    "Define a function named `multiply` that accepts two positional-only arguments and returns their product. The function should not allow these parameters to be passed as keyword arguments."
   ]
  },
  {
   "cell_type": "code",
   "execution_count": 3,
   "id": "c9737ec0",
   "metadata": {},
   "outputs": [],
   "source": [
    "def multiply(num_1: int, num_2: int, /) -> int:\n",
    "    return num_1 * num_2\n",
    "\n",
    "assert multiply(1, 100) == 100\n",
    "try:\n",
    "    multiply(num_1=2, num_2=3)\n",
    "except TypeError:\n",
    "    assert multiply(2, 4) == 8"
   ]
  },
  {
   "cell_type": "markdown",
   "id": "402187c6",
   "metadata": {},
   "source": [
    "---\n",
    "Question 3\n",
    "\n",
    "Create a function named `describe_pet` that takes one positional argument animal_type and one keyword argument name with a default value of an empty string. The function should print a description of the pet. The function should not accept more than 1 positional argument."
   ]
  },
  {
   "cell_type": "code",
   "execution_count": 8,
   "id": "4b15afd4",
   "metadata": {},
   "outputs": [],
   "source": [
    "def describe_pet(animal_type: str, *, name: str =\"\") -> str:\n",
    "    return f\"{animal_type}: {name}\"\n",
    "\n",
    "assert describe_pet(\"Bird\", name=\"Tweety\") == \"Bird: Tweety\"\n",
    "\n",
    "try:\n",
    "    describe_pet(\"Cat\", \"Sylvester\")\n",
    "except TypeError:\n",
    "    assert describe_pet(\"Cat\", name=\"Garfield\") == \"Cat: Garfield\""
   ]
  },
  {
   "cell_type": "markdown",
   "id": "11e769cd",
   "metadata": {},
   "source": [
    "---\n",
    "Question 4\n",
    "\n",
    "Write a function named `calculate_average` that any number of numeric arguments and returns their average. Make sure it returns `None` if no arguments are provided."
   ]
  },
  {
   "cell_type": "code",
   "execution_count": 10,
   "id": "f474f408",
   "metadata": {},
   "outputs": [],
   "source": [
    "def calculate_average(*args) -> float | None:\n",
    "    return sum(args) / len(args) if args else None\n",
    "\n",
    "assert calculate_average(1, 2, 3, 4, 5) == 3.0"
   ]
  },
  {
   "cell_type": "markdown",
   "id": "9185f7c6",
   "metadata": {},
   "source": [
    "---\n",
    "Question 5\n",
    "\n",
    "Create a function named `find_person` that accepts any number of keyword arguments in which each key is someone's name and the value is their associated profession. The function should check whether any of the key/value pairs has a key of `\"Antonina\"` and then, if the key is found, print a message that shows Antonina's profession. Otherwise, it should say `\"Antonina not found\"`. The function should not accept any positional arguments."
   ]
  },
  {
   "cell_type": "code",
   "execution_count": 16,
   "id": "a73dcb1e",
   "metadata": {},
   "outputs": [],
   "source": [
    "def find_person(**kwargs) -> str:\n",
    "    return kwargs.get(\"Antonina\") if \"Antonina\" in kwargs else \"Antonina not found\"\n",
    "\n",
    "assert find_person(Antonina=\"Singer\") == \"Singer\"\n",
    "assert find_person(Fred=\"Singer\") == \"Antonina not found\"\n",
    "try:\n",
    "    find_person(\"Antonina\")\n",
    "except TypeError:\n",
    "    assert find_person(Thaddeus=\"Singer\") == \"Antonina not found\""
   ]
  },
  {
   "cell_type": "markdown",
   "id": "7da85f04",
   "metadata": {},
   "source": [
    "---\n",
    "Question 6\n",
    "\n",
    "Define a function named `concat_strings` that takes any number of strings and returns the concatenation of all the strings. Add a keyword-only argument sep with a default value of ' ' that specifies the separator to use between the strings."
   ]
  },
  {
   "cell_type": "code",
   "execution_count": 17,
   "id": "8670196e",
   "metadata": {},
   "outputs": [],
   "source": [
    "def concat_strings(*args, sep: str= ' ') -> str:\n",
    "    return sep.join(args)\n",
    "\n",
    "assert concat_strings(\"bill\", \"bob\") == \"bill bob\""
   ]
  },
  {
   "cell_type": "markdown",
   "id": "679df6de",
   "metadata": {},
   "source": [
    "---\n",
    "Question 7\n",
    "\n",
    "Create a function named `register` that takes exactly three arguments: `username` as positional-only, `password` as keyword-only, and `age` as either a positional or keyword argument."
   ]
  },
  {
   "cell_type": "code",
   "execution_count": 19,
   "id": "ea659267",
   "metadata": {},
   "outputs": [],
   "source": [
    "def register(username: str, /, age: int, *, password: str):\n",
    "    return (username, age, password)\n",
    "\n",
    "assert register(\"thaddeus\", age=38, password=\"cool\") == ('thaddeus', 38, 'cool')\n",
    "\n",
    "try:\n",
    "    register(username=\"thaddeus\", age= 38, password=\"cool\")\n",
    "except TypeError:\n",
    "    assert register(\"thaddeus\", 38, password=\"cool\") == ('thaddeus', 38, 'cool')"
   ]
  },
  {
   "cell_type": "markdown",
   "id": "19f76ebe",
   "metadata": {},
   "source": [
    "---\n",
    "Question 8\n",
    "\n",
    "Create a function named `print_message` that requires a keyword-only argument (`message`) and an optional keyword-only argument (`level`) with a default value of `\"INFO\"`. The function should print out the message prefixed with the level. The function shouldn't accept any positional arguments."
   ]
  },
  {
   "cell_type": "code",
   "execution_count": 23,
   "id": "4b3c4f43",
   "metadata": {},
   "outputs": [
    {
     "name": "stdout",
     "output_type": "stream",
     "text": [
      "INFO: Help\n"
     ]
    }
   ],
   "source": [
    "def print_messages(*, message, level: str =\"INFO\") -> None:\n",
    "    print(f\"{level}: {message}\")\n",
    "\n",
    "print_messages(message=\"Help\")"
   ]
  },
  {
   "cell_type": "markdown",
   "id": "816e049f",
   "metadata": {},
   "source": [
    "<br>\n",
    "\n",
    "## Iterable Unpacking"
   ]
  },
  {
   "cell_type": "markdown",
   "id": "96e1cb09",
   "metadata": {},
   "source": [
    "---\n",
    "### Question 1"
   ]
  },
  {
   "cell_type": "markdown",
   "id": "139e4ec5",
   "metadata": {},
   "source": [
    "<br>\n",
    "\n",
    "## Closures"
   ]
  },
  {
   "cell_type": "markdown",
   "id": "36ac5387",
   "metadata": {},
   "source": [
    "---\n",
    "### Question 1"
   ]
  }
 ],
 "metadata": {
  "kernelspec": {
   "display_name": "Python 3",
   "language": "python",
   "name": "python3"
  },
  "language_info": {
   "codemirror_mode": {
    "name": "ipython",
    "version": 3
   },
   "file_extension": ".py",
   "mimetype": "text/x-python",
   "name": "python",
   "nbconvert_exporter": "python",
   "pygments_lexer": "ipython3",
   "version": "3.11.11"
  }
 },
 "nbformat": 4,
 "nbformat_minor": 5
}
