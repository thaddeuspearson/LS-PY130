{
 "cells": [
  {
   "cell_type": "markdown",
   "id": "3f04a7e4",
   "metadata": {},
   "source": [
    "# PY139 Exam Study Guide\n",
    "---"
   ]
  },
  {
   "cell_type": "markdown",
   "id": "b657ae1e",
   "metadata": {},
   "source": [
    "## Ia. [Python Topics: Functions, Generators, and Files](https://launchschool.com/lessons/807cf3b3/assignments):"
   ]
  },
  {
   "cell_type": "markdown",
   "id": "28ec3f5b",
   "metadata": {},
   "source": [
    "### [First-Class and Higher-Order Functions](https://launchschool.com/lessons/807cf3b3/assignments/4799c15e)\n",
    "\n",
    "\n",
    "1. At least one of the following:\n",
    "    - **expect** one or more functions as arguments\n",
    "    \n",
    "    - return a function\n",
    "\n",
    "2. `map` is a **transformation** Higher-Order function\n",
    "\n",
    "3. `filter` is a **selection** Higher-Order function\n",
    "\n"
   ]
  },
  {
   "cell_type": "code",
   "execution_count": null,
   "id": "d8754edd",
   "metadata": {},
   "outputs": [
    {
     "name": "stdout",
     "output_type": "stream",
     "text": [
      "variable\n",
      "variable\n"
     ]
    }
   ],
   "source": [
    "def foo(var):\n",
    "    return var\n",
    "\n",
    "# Function as a Variable\n",
    "bar = foo\n",
    "var = bar(\"variable\") \n",
    "print(var)      # prints \"variable\"\n",
    "\n",
    "\n",
    "# Function as an Argument\n",
    "def execute_func(func, func_arg):\n",
    "    return func(func_arg)\n",
    "\n",
    "var_2 = execute_func(foo, var)\n",
    "print(var_2)       # prints \"variable\"\n"
   ]
  },
  {
   "cell_type": "markdown",
   "id": "22a2307d",
   "metadata": {},
   "source": [
    "### [Generator Expressions](https://launchschool.com/lessons/807cf3b3/assignments/1e7ea8dd)\n",
    "\n",
    "1. Produces a series of objects on demand\n",
    "\n",
    "2. Use **lazy evaluation**, which only generates items when requested\n",
    "\n",
    "3. Single-use\n",
    "\n",
    "4. `yeild` keyword can be used within Generator Functions\n",
    "\n",
    "5. Best for large datasets or for functions that work with iterators like `sum()`, `any()`, `all()`, `min()`, `max()`"
   ]
  },
  {
   "cell_type": "code",
   "execution_count": null,
   "id": "c8201c4a",
   "metadata": {},
   "outputs": [
    {
     "name": "stdout",
     "output_type": "stream",
     "text": [
      "<generator object <genexpr> at 0x110f52a80>\n",
      "[1, 2, 3, 4]\n",
      "[]\n",
      "1\n",
      "3\n",
      "5\n",
      "[7, 9, 11]\n",
      "1\n",
      "2\n",
      "3\n",
      "4\n"
     ]
    },
    {
     "ename": "StopIteration",
     "evalue": "",
     "output_type": "error",
     "traceback": [
      "\u001b[0;31m---------------------------------------------------------------------------\u001b[0m",
      "\u001b[0;31mStopIteration\u001b[0m                             Traceback (most recent call last)",
      "Cell \u001b[0;32mIn[18], line 27\u001b[0m\n\u001b[1;32m     25\u001b[0m \u001b[38;5;28mprint\u001b[39m(\u001b[38;5;28mnext\u001b[39m(one_through_four))  \u001b[38;5;66;03m# 3\u001b[39;00m\n\u001b[1;32m     26\u001b[0m \u001b[38;5;28mprint\u001b[39m(\u001b[38;5;28mnext\u001b[39m(one_through_four))  \u001b[38;5;66;03m# 4\u001b[39;00m\n\u001b[0;32m---> 27\u001b[0m \u001b[38;5;28mprint\u001b[39m(\u001b[38;5;28;43mnext\u001b[39;49m\u001b[43m(\u001b[49m\u001b[43mone_through_four\u001b[49m\u001b[43m)\u001b[49m)  \u001b[38;5;66;03m# \"\"\u001b[39;00m\n\u001b[1;32m     28\u001b[0m \u001b[38;5;28mprint\u001b[39m(\u001b[38;5;28mnext\u001b[39m(one_through_four))  \u001b[38;5;66;03m# \"\"\u001b[39;00m\n\u001b[1;32m     29\u001b[0m \u001b[38;5;28mprint\u001b[39m(\u001b[38;5;124m\"\u001b[39m\u001b[38;5;124mend\u001b[39m\u001b[38;5;124m\"\u001b[39m)\n",
      "\u001b[0;31mStopIteration\u001b[0m: "
     ]
    }
   ],
   "source": [
    "generator = (num for num in range(1, 5))   # Generator Expression\n",
    "print(generator)\n",
    "print(list(generator))  # [1, 2, 3, 4]\n",
    "print(list(generator))  # []\n",
    "\n",
    "numbers = (number for number in [1, 3, 5, 7, 9, 11])\n",
    "\n",
    "for number in numbers:\n",
    "    print(number)   # prints 1, 3, 5 on separate lines\n",
    "    \n",
    "    if number >= 5:\n",
    "        break\n",
    "\n",
    "print(list(numbers))    # [7, 9, 11]\n",
    "\n",
    "# Generator Function\n",
    "def one_at_a_time():\n",
    "    for num in range(1, 5):\n",
    "        yield num\n",
    "\n",
    "one_through_four = one_at_a_time()\n",
    "\n",
    "print(next(one_through_four))  # 1\n",
    "print(next(one_through_four))  # 2\n",
    "print(next(one_through_four))  # 3\n",
    "print(next(one_through_four))  # 4\n",
    "print(next(one_through_four))  # raises StopIteration\n",
    "\n"
   ]
  },
  {
   "cell_type": "markdown",
   "id": "48bc5c51",
   "metadata": {},
   "source": [
    "### [Lambda Functions](https://launchschool.com/lessons/807cf3b3/assignments/4799c15e)\n",
    "\n",
    "\n",
    "1. The expression is limited to a single expression.\n",
    "\n",
    "2. No assignments, loops, if statements, or any other statements are allowed.\n",
    "\n",
    "3. Docstrings are not allowed.\n",
    "\n",
    "4. Lambdas are difficult to debug since they don't have names that would otherwise appear in error messagees.\n",
    "\n",
    "5. Lambdas don't permit `*args` and `**kwargs` parameters. We discuss these parameters in Lesson 2.\n"
   ]
  },
  {
   "cell_type": "code",
   "execution_count": 2,
   "id": "1fa39f9f",
   "metadata": {},
   "outputs": [
    {
     "name": "stdout",
     "output_type": "stream",
     "text": [
      "False\n",
      "50\n",
      "6\n"
     ]
    }
   ],
   "source": [
    "greater_than_100 = lambda x: x > 100\n",
    "double = lambda y: y * 2\n",
    "add_three_ints = lambda a, b, c: a + b + c\n",
    "\n",
    "print(greater_than_100(10))   # False\n",
    "print(double(25))   # 50\n",
    "print(add_three_ints(1, 2, 3))  # 6"
   ]
  },
  {
   "cell_type": "markdown",
   "id": "bec31b27",
   "metadata": {},
   "source": [
    "### [File Handling](https://launchschool.com/lessons/807cf3b3/assignments/9733d950)\n",
    "\n",
    "1. `open()` returns a file object\n",
    "    - `'r'` read mode _(Default)_\n",
    "   \n",
    "    - `'w'` write mode\n",
    "    \n",
    "    - `'a'` append mode\n",
    "\n",
    "2. `.read()`, `.readline()`, `.readlines()` reads an open file object\n",
    "    - `.read` - entire file\n",
    "\n",
    "    - `.readline` - reads the next line up until the `\\n`\n",
    "\n",
    "    - `.readlines` - reads the entire open file object, line by line, returned as a list\n",
    "\n",
    "3. `.write()`, `.writelines()` write to an open file \n",
    "    - `.write` \n",
    "        - overwrites the open file object with the given string arg _(in write mode)_\n",
    "        - appends to the end of open file object with the given string arg _(in append mode)_\n",
    "\n",
    "    - `.writelines`\n",
    "        - overwrites the open file object with the list of strings given as an arg\n",
    "        - appends to the end of open file object with the list of strings given as an arg _(in append mode)_\n",
    "\n",
    "4. `.close()` closes the open file object\n",
    "\n",
    "5. using `with` statement \n",
    "    - creates a **context manager**\n",
    "\n",
    "    - automatically handles closing the open file at the end"
   ]
  },
  {
   "cell_type": "code",
   "execution_count": null,
   "id": "0ccb9072",
   "metadata": {},
   "outputs": [],
   "source": [
    "file = open(\"example.txt\", 'r') # open the file\n",
    "file.read() | file.readlines()  # read all the content\n",
    "file.close()                    # close the file\n",
    "\n",
    "file = open(\"write_to_me.txt\", \"w\") # open in write mode\n",
    "file.write(\"Hello World!\")  | file.writelines([\"Hello\\n\", \"World!\"])  # writes to the file\n",
    "file.close()\n",
    "\n",
    "with open(\"append_to_me.txt\", \"a+\") as f:\n",
    "    f.readline()    # reads the first line\n",
    "    f.write(\"add this to the end\")  # appends to the end of the file"
   ]
  },
  {
   "cell_type": "markdown",
   "id": "c725bb4d",
   "metadata": {},
   "source": [
    "## Ib. [Python Topics: Advanced Concepts](https://launchschool.com/lessons/ab8b995d/assignments)"
   ]
  },
  {
   "cell_type": "markdown",
   "id": "05fdafaf",
   "metadata": {},
   "source": [
    "### [Function Arguments and Parameters](https://launchschool.com/lessons/ab8b995d/assignments/a2d34670)\n",
    "\n",
    "1. positional\n",
    "\n",
    "2. keyword\n",
    "\n",
    "3. positional-only\n",
    "\n",
    "4. keyword-only\n",
    "\n",
    "5. `*args`\n",
    "\n",
    "6. `**kwargs`\n",
    "\n",
    "7. default parameters"
   ]
  },
  {
   "cell_type": "code",
   "execution_count": null,
   "id": "b8c3870a",
   "metadata": {},
   "outputs": [],
   "source": []
  },
  {
   "cell_type": "markdown",
   "id": "d3fcf294",
   "metadata": {},
   "source": [
    "### [Closures](https://launchschool.com/lessons/ab8b995d/assignments/44c85684)\n",
    "\n",
    "1."
   ]
  },
  {
   "cell_type": "code",
   "execution_count": null,
   "id": "09945d79",
   "metadata": {},
   "outputs": [],
   "source": []
  },
  {
   "cell_type": "markdown",
   "id": "4d740608",
   "metadata": {},
   "source": [
    "### [Partial Function Application](https://launchschool.com/lessons/ab8b995d/assignments/44c85684)\n",
    "\n",
    "1."
   ]
  },
  {
   "cell_type": "code",
   "execution_count": null,
   "id": "23336c09",
   "metadata": {},
   "outputs": [],
   "source": []
  },
  {
   "cell_type": "markdown",
   "id": "06610c71",
   "metadata": {},
   "source": [
    "### [Decorators](https://launchschool.com/lessons/ab8b995d/assignments/7fdecedf)\n",
    "\n",
    "1."
   ]
  },
  {
   "cell_type": "code",
   "execution_count": null,
   "id": "796e0a9e",
   "metadata": {},
   "outputs": [],
   "source": []
  },
  {
   "cell_type": "markdown",
   "id": "c6141565",
   "metadata": {},
   "source": [
    "### [Modules](https://launchschool.com/lessons/ab8b995d/assignments/1220652f)\n",
    "\n",
    "1."
   ]
  },
  {
   "cell_type": "code",
   "execution_count": null,
   "id": "4daeef42",
   "metadata": {},
   "outputs": [],
   "source": []
  },
  {
   "cell_type": "markdown",
   "id": "91d6b1bd",
   "metadata": {},
   "source": [
    "### [Pure Functions and Side Effects](https://launchschool.com/lessons/ab8b995d/assignments/741533ab)\n",
    "\n",
    "1."
   ]
  },
  {
   "cell_type": "code",
   "execution_count": null,
   "id": "da2bd455",
   "metadata": {},
   "outputs": [],
   "source": []
  },
  {
   "cell_type": "markdown",
   "id": "23b761c1",
   "metadata": {},
   "source": [
    "---\n",
    "## II. [Testing with Unittest](https://launchschool.com/lessons/69c6d544/assignments):"
   ]
  },
  {
   "cell_type": "markdown",
   "id": "f31fe534",
   "metadata": {},
   "source": [
    "### [Testing Terminology](https://launchschool.com/lessons/69c6d544/assignments/1a5f1151)\n",
    "\n",
    "1."
   ]
  },
  {
   "cell_type": "code",
   "execution_count": null,
   "id": "ebbda72b",
   "metadata": {},
   "outputs": [],
   "source": []
  },
  {
   "cell_type": "markdown",
   "id": "50104b5f",
   "metadata": {},
   "source": [
    "### [Writing and Running Tests with `unittest` Framework](https://launchschool.com/lessons/69c6d544/assignments/1a5f1151)\n",
    "\n",
    "1."
   ]
  },
  {
   "cell_type": "code",
   "execution_count": null,
   "id": "12b9846c",
   "metadata": {},
   "outputs": [],
   "source": []
  },
  {
   "cell_type": "markdown",
   "id": "b4639ace",
   "metadata": {},
   "source": [
    "### [Utilizing Assertions for Testing Equality and Other Conditions](https://launchschool.com/lessons/69c6d544/assignments/c219bc4c)\n",
    "\n",
    "1. `assertEqual`\n",
    "\n",
    "2. `assertIs`"
   ]
  },
  {
   "cell_type": "code",
   "execution_count": null,
   "id": "9688ac50",
   "metadata": {},
   "outputs": [],
   "source": []
  },
  {
   "cell_type": "markdown",
   "id": "8bfbc259",
   "metadata": {},
   "source": [
    "### [SEAT approach](https://launchschool.com/lessons/69c6d544/assignments/8a0edfc8)\n",
    "\n",
    "1.\n"
   ]
  },
  {
   "cell_type": "code",
   "execution_count": null,
   "id": "c302a56a",
   "metadata": {},
   "outputs": [],
   "source": []
  },
  {
   "cell_type": "markdown",
   "id": "52e465d3",
   "metadata": {},
   "source": [
    "### [Understanding Code Coverage](https://launchschool.com/lessons/69c6d544/assignments/3ca41f04)\n",
    "\n",
    "1."
   ]
  },
  {
   "cell_type": "code",
   "execution_count": null,
   "id": "c0e6f7aa",
   "metadata": {},
   "outputs": [],
   "source": []
  },
  {
   "cell_type": "markdown",
   "id": "1df49e79",
   "metadata": {},
   "source": [
    "---\n",
    "## III. [Packaging Code](https://launchschool.com/lessons/e984a2ad/assignments):"
   ]
  },
  {
   "cell_type": "markdown",
   "id": "8fd675ec",
   "metadata": {},
   "source": [
    "### [Project Directory Layout](https://launchschool.com/lessons/e984a2ad/assignments/86ef018d)\n",
    "\n",
    "1. "
   ]
  },
  {
   "cell_type": "code",
   "execution_count": null,
   "id": "9f490b1f",
   "metadata": {},
   "outputs": [],
   "source": []
  },
  {
   "cell_type": "markdown",
   "id": "082a3719",
   "metadata": {},
   "source": [
    "### [Using `pip` for Package Installation and Management](https://launchschool.com/lessons/e984a2ad/assignments/eef5f9eb)\n",
    "\n",
    "1."
   ]
  },
  {
   "cell_type": "code",
   "execution_count": null,
   "id": "8ccfed1e",
   "metadata": {},
   "outputs": [],
   "source": []
  },
  {
   "cell_type": "markdown",
   "id": "69b3dff7",
   "metadata": {},
   "source": [
    "### [Packaging Projects](https://launchschool.com/lessons/e984a2ad/assignments/86ef018d)\n",
    "\n",
    "1."
   ]
  },
  {
   "cell_type": "code",
   "execution_count": null,
   "id": "c2961ba3",
   "metadata": {},
   "outputs": [],
   "source": []
  }
 ],
 "metadata": {
  "kernelspec": {
   "display_name": "Python 3",
   "language": "python",
   "name": "python3"
  },
  "language_info": {
   "codemirror_mode": {
    "name": "ipython",
    "version": 3
   },
   "file_extension": ".py",
   "mimetype": "text/x-python",
   "name": "python",
   "nbconvert_exporter": "python",
   "pygments_lexer": "ipython3",
   "version": "3.11.11"
  }
 },
 "nbformat": 4,
 "nbformat_minor": 5
}
