{
 "cells": [
  {
   "cell_type": "markdown",
   "id": "3f04a7e4",
   "metadata": {},
   "source": [
    "# PY139 Exam Study Guide\n",
    "---"
   ]
  },
  {
   "cell_type": "markdown",
   "id": "b657ae1e",
   "metadata": {},
   "source": [
    "## Ia. [Python Topics: Functions, Generators, and Files](https://launchschool.com/lessons/807cf3b3/assignments):"
   ]
  },
  {
   "cell_type": "markdown",
   "id": "28ec3f5b",
   "metadata": {},
   "source": [
    "### [First-Class and Higher-Order Functions](https://launchschool.com/lessons/807cf3b3/assignments/4799c15e)\n",
    "\n",
    "1."
   ]
  },
  {
   "cell_type": "code",
   "execution_count": null,
   "id": "d8754edd",
   "metadata": {},
   "outputs": [],
   "source": []
  },
  {
   "cell_type": "markdown",
   "id": "22a2307d",
   "metadata": {},
   "source": [
    "### [Generator Expressions](https://launchschool.com/lessons/807cf3b3/assignments/1e7ea8dd)\n",
    "\n",
    "1."
   ]
  },
  {
   "cell_type": "code",
   "execution_count": null,
   "id": "c8201c4a",
   "metadata": {},
   "outputs": [],
   "source": []
  },
  {
   "cell_type": "markdown",
   "id": "48bc5c51",
   "metadata": {},
   "source": [
    "### [Lambda Functions](https://launchschool.com/lessons/807cf3b3/assignments/4799c15e)\n",
    "\n",
    "1."
   ]
  },
  {
   "cell_type": "code",
   "execution_count": null,
   "id": "1fa39f9f",
   "metadata": {},
   "outputs": [],
   "source": []
  },
  {
   "cell_type": "markdown",
   "id": "bec31b27",
   "metadata": {},
   "source": [
    "### [File Handling](https://launchschool.com/lessons/807cf3b3/assignments/9733d950)\n",
    "\n",
    "1."
   ]
  },
  {
   "cell_type": "code",
   "execution_count": null,
   "id": "0ccb9072",
   "metadata": {},
   "outputs": [],
   "source": []
  },
  {
   "cell_type": "markdown",
   "id": "c725bb4d",
   "metadata": {},
   "source": [
    "## Ib. [Python Topics: Advanced Concepts](https://launchschool.com/lessons/ab8b995d/assignments)"
   ]
  },
  {
   "cell_type": "markdown",
   "id": "05fdafaf",
   "metadata": {},
   "source": [
    "### [Function Arguments and Parameters](https://launchschool.com/lessons/ab8b995d/assignments/a2d34670)\n",
    "\n",
    "1. positional\n",
    "\n",
    "2. keyword\n",
    "\n",
    "3. positional-only\n",
    "\n",
    "4. keyword-only\n",
    "\n",
    "5. `*args`\n",
    "\n",
    "6. `**kwargs`\n",
    "\n",
    "7. default parameters"
   ]
  },
  {
   "cell_type": "code",
   "execution_count": null,
   "id": "b8c3870a",
   "metadata": {},
   "outputs": [],
   "source": []
  },
  {
   "cell_type": "markdown",
   "id": "d3fcf294",
   "metadata": {},
   "source": [
    "### [Closures](https://launchschool.com/lessons/ab8b995d/assignments/44c85684)\n",
    "\n",
    "1."
   ]
  },
  {
   "cell_type": "code",
   "execution_count": null,
   "id": "09945d79",
   "metadata": {},
   "outputs": [],
   "source": []
  },
  {
   "cell_type": "markdown",
   "id": "4d740608",
   "metadata": {},
   "source": [
    "### [Partial Function Application](https://launchschool.com/lessons/ab8b995d/assignments/44c85684)\n",
    "\n",
    "1."
   ]
  },
  {
   "cell_type": "code",
   "execution_count": null,
   "id": "23336c09",
   "metadata": {},
   "outputs": [],
   "source": []
  },
  {
   "cell_type": "markdown",
   "id": "06610c71",
   "metadata": {},
   "source": [
    "### [Decorators](https://launchschool.com/lessons/ab8b995d/assignments/7fdecedf)\n",
    "\n",
    "1."
   ]
  },
  {
   "cell_type": "code",
   "execution_count": null,
   "id": "796e0a9e",
   "metadata": {},
   "outputs": [],
   "source": []
  },
  {
   "cell_type": "markdown",
   "id": "c6141565",
   "metadata": {},
   "source": [
    "### [Modules](https://launchschool.com/lessons/ab8b995d/assignments/1220652f)\n",
    "\n",
    "1."
   ]
  },
  {
   "cell_type": "code",
   "execution_count": null,
   "id": "4daeef42",
   "metadata": {},
   "outputs": [],
   "source": []
  },
  {
   "cell_type": "markdown",
   "id": "91d6b1bd",
   "metadata": {},
   "source": [
    "### [Pure Functions and Side Effects](https://launchschool.com/lessons/ab8b995d/assignments/741533ab)\n",
    "\n",
    "1."
   ]
  },
  {
   "cell_type": "code",
   "execution_count": null,
   "id": "da2bd455",
   "metadata": {},
   "outputs": [],
   "source": []
  },
  {
   "cell_type": "markdown",
   "id": "23b761c1",
   "metadata": {},
   "source": [
    "---\n",
    "## II. [Testing with Unittest](https://launchschool.com/lessons/69c6d544/assignments):"
   ]
  },
  {
   "cell_type": "markdown",
   "id": "f31fe534",
   "metadata": {},
   "source": [
    "### [Testing Terminology](https://launchschool.com/lessons/69c6d544/assignments/1a5f1151)\n",
    "\n",
    "1."
   ]
  },
  {
   "cell_type": "code",
   "execution_count": null,
   "id": "ebbda72b",
   "metadata": {},
   "outputs": [],
   "source": []
  },
  {
   "cell_type": "markdown",
   "id": "50104b5f",
   "metadata": {},
   "source": [
    "### [Writing and Running Tests with `unittest` Framework](https://launchschool.com/lessons/69c6d544/assignments/1a5f1151)\n",
    "\n",
    "1."
   ]
  },
  {
   "cell_type": "code",
   "execution_count": null,
   "id": "12b9846c",
   "metadata": {},
   "outputs": [],
   "source": []
  },
  {
   "cell_type": "markdown",
   "id": "b4639ace",
   "metadata": {},
   "source": [
    "### [Utilizing Assertions for Testing Equality and Other Conditions](https://launchschool.com/lessons/69c6d544/assignments/c219bc4c)\n",
    "\n",
    "1. `assertEqual`\n",
    "\n",
    "2. `assertIs`"
   ]
  },
  {
   "cell_type": "code",
   "execution_count": null,
   "id": "9688ac50",
   "metadata": {},
   "outputs": [],
   "source": []
  },
  {
   "cell_type": "markdown",
   "id": "8bfbc259",
   "metadata": {},
   "source": [
    "### [SEAT approach](https://launchschool.com/lessons/69c6d544/assignments/8a0edfc8)\n",
    "\n",
    "1.\n"
   ]
  },
  {
   "cell_type": "code",
   "execution_count": null,
   "id": "c302a56a",
   "metadata": {},
   "outputs": [],
   "source": []
  },
  {
   "cell_type": "markdown",
   "id": "52e465d3",
   "metadata": {},
   "source": [
    "### [Understanding Code Coverage](https://launchschool.com/lessons/69c6d544/assignments/3ca41f04)\n",
    "\n",
    "1."
   ]
  },
  {
   "cell_type": "code",
   "execution_count": null,
   "id": "c0e6f7aa",
   "metadata": {},
   "outputs": [],
   "source": []
  },
  {
   "cell_type": "markdown",
   "id": "1df49e79",
   "metadata": {},
   "source": [
    "---\n",
    "## III. [Packaging Code](https://launchschool.com/lessons/e984a2ad/assignments):"
   ]
  },
  {
   "cell_type": "markdown",
   "id": "8fd675ec",
   "metadata": {},
   "source": [
    "### [Project Directory Layout](https://launchschool.com/lessons/e984a2ad/assignments/86ef018d)\n",
    "\n",
    "1. "
   ]
  },
  {
   "cell_type": "code",
   "execution_count": null,
   "id": "9f490b1f",
   "metadata": {},
   "outputs": [],
   "source": []
  },
  {
   "cell_type": "markdown",
   "id": "082a3719",
   "metadata": {},
   "source": [
    "### [Using `pip` for Package Installation and Management](https://launchschool.com/lessons/e984a2ad/assignments/eef5f9eb)\n",
    "\n",
    "1."
   ]
  },
  {
   "cell_type": "code",
   "execution_count": null,
   "id": "8ccfed1e",
   "metadata": {},
   "outputs": [],
   "source": []
  },
  {
   "cell_type": "markdown",
   "id": "69b3dff7",
   "metadata": {},
   "source": [
    "### [Packaging Projects](https://launchschool.com/lessons/e984a2ad/assignments/86ef018d)\n",
    "\n",
    "1."
   ]
  },
  {
   "cell_type": "code",
   "execution_count": null,
   "id": "c2961ba3",
   "metadata": {},
   "outputs": [],
   "source": []
  }
 ],
 "metadata": {
  "language_info": {
   "name": "python"
  }
 },
 "nbformat": 4,
 "nbformat_minor": 5
}
