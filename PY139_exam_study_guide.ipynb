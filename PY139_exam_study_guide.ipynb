{
 "cells": [
  {
   "cell_type": "markdown",
   "id": "3f04a7e4",
   "metadata": {},
   "source": [
    "# PY139 Exam Study Guide\n",
    "---"
   ]
  },
  {
   "cell_type": "markdown",
   "id": "b657ae1e",
   "metadata": {},
   "source": [
    "## Ia. [Python Topics: Functions, Generators, and Files](https://launchschool.com/lessons/807cf3b3/assignments):"
   ]
  },
  {
   "cell_type": "markdown",
   "id": "28ec3f5b",
   "metadata": {},
   "source": [
    "### [First-Class and Higher-Order Functions](https://launchschool.com/lessons/807cf3b3/assignments/4799c15e)\n",
    "\n",
    "\n",
    "1. At least one of the following:\n",
    "    - **expect** one or more functions as arguments\n",
    "    \n",
    "    - return a function\n",
    "\n",
    "2. `map` is a **transformation** Higher-Order function\n",
    "\n",
    "3. `filter` is a **selection** Higher-Order function\n",
    "\n"
   ]
  },
  {
   "cell_type": "code",
   "execution_count": 1,
   "id": "d8754edd",
   "metadata": {},
   "outputs": [
    {
     "name": "stdout",
     "output_type": "stream",
     "text": [
      "variable\n",
      "variable\n"
     ]
    }
   ],
   "source": [
    "def foo(var):\n",
    "    return var\n",
    "\n",
    "# Function as a Variable\n",
    "bar = foo\n",
    "var = bar(\"variable\") \n",
    "print(var)      # prints \"variable\"\n",
    "\n",
    "\n",
    "# Function as an Argument\n",
    "def execute_func(func, func_arg):\n",
    "    return func(func_arg)\n",
    "\n",
    "var_2 = execute_func(foo, var)\n",
    "print(var_2)       # prints \"variable\"\n"
   ]
  },
  {
   "cell_type": "markdown",
   "id": "22a2307d",
   "metadata": {},
   "source": [
    "### [Generator Expressions](https://launchschool.com/lessons/807cf3b3/assignments/1e7ea8dd)\n",
    "\n",
    "1. Produces a series of objects on demand\n",
    "\n",
    "2. Use **lazy evaluation**, which only generates items when requested\n",
    "\n",
    "3. Single-use\n",
    "\n",
    "4. `yeild` keyword can be used within Generator Functions\n",
    "\n",
    "5. Best for large datasets or for functions that work with iterators like `sum()`, `any()`, `all()`, `min()`, `max()`"
   ]
  },
  {
   "cell_type": "code",
   "execution_count": 18,
   "id": "c8201c4a",
   "metadata": {},
   "outputs": [
    {
     "name": "stdout",
     "output_type": "stream",
     "text": [
      "<generator object <genexpr> at 0x110f52a80>\n",
      "[1, 2, 3, 4]\n",
      "[]\n",
      "1\n",
      "3\n",
      "5\n",
      "[7, 9, 11]\n",
      "1\n",
      "2\n",
      "3\n",
      "4\n"
     ]
    },
    {
     "ename": "StopIteration",
     "evalue": "",
     "output_type": "error",
     "traceback": [
      "\u001b[0;31m---------------------------------------------------------------------------\u001b[0m",
      "\u001b[0;31mStopIteration\u001b[0m                             Traceback (most recent call last)",
      "Cell \u001b[0;32mIn[18], line 27\u001b[0m\n\u001b[1;32m     25\u001b[0m \u001b[38;5;28mprint\u001b[39m(\u001b[38;5;28mnext\u001b[39m(one_through_four))  \u001b[38;5;66;03m# 3\u001b[39;00m\n\u001b[1;32m     26\u001b[0m \u001b[38;5;28mprint\u001b[39m(\u001b[38;5;28mnext\u001b[39m(one_through_four))  \u001b[38;5;66;03m# 4\u001b[39;00m\n\u001b[0;32m---> 27\u001b[0m \u001b[38;5;28mprint\u001b[39m(\u001b[38;5;28;43mnext\u001b[39;49m\u001b[43m(\u001b[49m\u001b[43mone_through_four\u001b[49m\u001b[43m)\u001b[49m)  \u001b[38;5;66;03m# \"\"\u001b[39;00m\n\u001b[1;32m     28\u001b[0m \u001b[38;5;28mprint\u001b[39m(\u001b[38;5;28mnext\u001b[39m(one_through_four))  \u001b[38;5;66;03m# \"\"\u001b[39;00m\n\u001b[1;32m     29\u001b[0m \u001b[38;5;28mprint\u001b[39m(\u001b[38;5;124m\"\u001b[39m\u001b[38;5;124mend\u001b[39m\u001b[38;5;124m\"\u001b[39m)\n",
      "\u001b[0;31mStopIteration\u001b[0m: "
     ]
    }
   ],
   "source": [
    "generator = (num for num in range(1, 5))   # Generator Expression\n",
    "print(generator)\n",
    "print(list(generator))  # [1, 2, 3, 4]\n",
    "print(list(generator))  # []\n",
    "\n",
    "numbers = (number for number in [1, 3, 5, 7, 9, 11])\n",
    "\n",
    "for number in numbers:\n",
    "    print(number)   # prints 1, 3, 5 on separate lines\n",
    "    \n",
    "    if number >= 5:\n",
    "        break\n",
    "\n",
    "print(list(numbers))    # [7, 9, 11]\n",
    "\n",
    "# Generator Function\n",
    "def one_at_a_time():\n",
    "    for num in range(1, 5):\n",
    "        yield num\n",
    "\n",
    "one_through_four = one_at_a_time()\n",
    "\n",
    "print(next(one_through_four))  # 1\n",
    "print(next(one_through_four))  # 2\n",
    "print(next(one_through_four))  # 3\n",
    "print(next(one_through_four))  # 4\n",
    "print(next(one_through_four))  # raises StopIteration\n",
    "\n"
   ]
  },
  {
   "cell_type": "markdown",
   "id": "48bc5c51",
   "metadata": {},
   "source": [
    "### [Lambda Functions](https://launchschool.com/lessons/807cf3b3/assignments/4799c15e)\n",
    "\n",
    "\n",
    "1. The expression is limited to a single expression.\n",
    "\n",
    "2. No assignments, loops, if statements, or any other statements are allowed.\n",
    "\n",
    "3. Docstrings are not allowed.\n",
    "\n",
    "4. Lambdas are difficult to debug since they don't have names that would otherwise appear in error messagees.\n",
    "\n",
    "5. Lambdas don't permit `*args` and `**kwargs` parameters. We discuss these parameters in Lesson 2.\n"
   ]
  },
  {
   "cell_type": "code",
   "execution_count": 2,
   "id": "1fa39f9f",
   "metadata": {},
   "outputs": [
    {
     "name": "stdout",
     "output_type": "stream",
     "text": [
      "False\n",
      "50\n",
      "6\n"
     ]
    }
   ],
   "source": [
    "greater_than_100 = lambda x: x > 100\n",
    "double = lambda y: y * 2\n",
    "add_three_ints = lambda a, b, c: a + b + c\n",
    "\n",
    "print(greater_than_100(10))   # False\n",
    "print(double(25))   # 50\n",
    "print(add_three_ints(1, 2, 3))  # 6"
   ]
  },
  {
   "cell_type": "markdown",
   "id": "bec31b27",
   "metadata": {},
   "source": [
    "### [File Handling](https://launchschool.com/lessons/807cf3b3/assignments/9733d950)\n",
    "\n",
    "1. `open()` returns a file object\n",
    "    - `'r'` read mode _(Default)_\n",
    "   \n",
    "    - `'w'` write mode\n",
    "    \n",
    "    - `'a'` append mode\n",
    "\n",
    "2. `.read()`, `.readline()`, `.readlines()` reads an open file object\n",
    "    - `.read` - entire file\n",
    "\n",
    "    - `.readline` - reads the next line up until the `\\n`\n",
    "\n",
    "    - `.readlines` - reads the entire open file object, line by line, returned as a list\n",
    "\n",
    "3. `.write()`, `.writelines()` write to an open file \n",
    "    - `.write` \n",
    "        - overwrites the open file object with the given string arg _(in write mode)_\n",
    "        - appends to the end of open file object with the given string arg _(in append mode)_\n",
    "\n",
    "    - `.writelines`\n",
    "        - overwrites the open file object with the list of strings given as an arg\n",
    "        - appends to the end of open file object with the list of strings given as an arg _(in append mode)_\n",
    "\n",
    "4. `.close()` closes the open file object\n",
    "\n",
    "5. using `with` statement \n",
    "    - creates a **context manager**\n",
    "\n",
    "    - automatically handles closing the open file at the end"
   ]
  },
  {
   "cell_type": "code",
   "execution_count": null,
   "id": "0ccb9072",
   "metadata": {},
   "outputs": [],
   "source": [
    "file = open(\"example.txt\", 'r') # open the file\n",
    "file.read() | file.readlines()  # read all the content\n",
    "file.close()                    # close the file\n",
    "\n",
    "file = open(\"write_to_me.txt\", \"w\") # open in write mode\n",
    "file.write(\"Hello World!\")  | file.writelines([\"Hello\\n\", \"World!\"])  # writes to the file\n",
    "file.close()\n",
    "\n",
    "with open(\"append_to_me.txt\", \"a+\") as f:\n",
    "    f.readline()    # reads the first line\n",
    "    f.write(\"add this to the end\")  # appends to the end of the file"
   ]
  },
  {
   "cell_type": "markdown",
   "id": "c725bb4d",
   "metadata": {},
   "source": [
    "## Ib. [Python Topics: Advanced Concepts](https://launchschool.com/lessons/ab8b995d/assignments)"
   ]
  },
  {
   "cell_type": "markdown",
   "id": "05fdafaf",
   "metadata": {},
   "source": [
    "### [Function Arguments and Parameters](https://launchschool.com/lessons/ab8b995d/assignments/a2d34670)\n",
    "\n",
    "1. **positional** \n",
    "    - order matters\n",
    "\n",
    "2. **keyword** \n",
    "    - order does not matter\n",
    "\n",
    "    - always come after positional args\n",
    "\n",
    "3. **positional-only** \n",
    "    - order matters\n",
    "    \n",
    "    - no keyword args allowed\n",
    "    \n",
    "    - a `/` after the last positional-only arg\n",
    "\n",
    "4. **keyword-only** \n",
    "    - order does not matter, \n",
    "    \n",
    "    - no positional args allowed\n",
    "    \n",
    "    - a `*` before keyword-only args\n",
    "\n",
    "5. `*args` \n",
    "    - any number of postional arguments allowed\n",
    "    \n",
    "    - all positonal args are assigned to a tuple accessible by the `args` param\n",
    "\n",
    "    - comes after all positional-only params\n",
    "\n",
    "6. `**kwargs`\n",
    "    - any number of keyword args allowed\n",
    "\n",
    "    - add keyword args are assigned to a dictionary accessible by `kwargs` parag\n",
    "\n",
    "    - comes after all keyword-only params\n",
    "\n",
    "7. **default parameter** \n",
    "    - must come at the end\n",
    "    \n",
    "    - provides a default argument for function execution when no argument is provided to the positional parameter"
   ]
  },
  {
   "cell_type": "code",
   "execution_count": 32,
   "id": "b8c3870a",
   "metadata": {},
   "outputs": [
    {
     "name": "stdout",
     "output_type": "stream",
     "text": [
      "positional_only='poritional_arg'\n",
      "positional_or_keyword='keyword_arg'\n",
      "keyword_only='default_arg'\n",
      "positional=1\n",
      "args=(2, 3)\n",
      "keyword=4\n",
      "kwargs={'anything': 5}\n"
     ]
    }
   ],
   "source": [
    "def all_types_of_args(positional_only, /, positional_or_keyword, *, keyword_only=\"default_arg\"):\n",
    "    print(f\"{positional_only=}\")\n",
    "    print(f\"{positional_or_keyword=}\")\n",
    "    print(f\"{keyword_only=}\")\n",
    "\n",
    "all_types_of_args(\"poritional_arg\", positional_or_keyword=\"keyword_arg\")\n",
    "\n",
    "def args_and_kwargs(positional, *args, keyword=None, **kwargs):\n",
    "    print(f\"{positional=}\")\n",
    "    print(f\"{args=}\")\n",
    "    print(f\"{keyword=}\")\n",
    "    print(f\"{kwargs=}\")\n",
    "\n",
    "args_and_kwargs(1, 2, 3, keyword=4, anything=5)"
   ]
  },
  {
   "cell_type": "markdown",
   "id": "d3fcf294",
   "metadata": {},
   "source": [
    "### [Closures](https://launchschool.com/lessons/ab8b995d/assignments/44c85684)\n",
    "\n",
    "1. A function that remembers and has access to variables in the local scope in which it was created, even after the outer function has finished executing\n",
    "\n",
    "2. The inner function can access variables that were in scope at the time of its creation\n",
    "\n",
    "3. Python uses a mechanism called a **cell** to store the values of variables that are used by closures\n",
    "\n",
    "4. A closure is a function and an associated extended environment consisting of the non-local variables it references"
   ]
  },
  {
   "cell_type": "code",
   "execution_count": null,
   "id": "09945d79",
   "metadata": {},
   "outputs": [
    {
     "name": "stdout",
     "output_type": "stream",
     "text": [
      "0x105642b90\n",
      "13\n",
      "(<cell at 0x1171e4310: int object at 0x105642b90>,)\n"
     ]
    }
   ],
   "source": [
    "def outer():\n",
    "    num = 3\n",
    "    print(hex(id(num)))\n",
    "    \n",
    "    def inner() -> int:\n",
    "        return num + 10\n",
    "    \n",
    "    return inner\n",
    "\n",
    "add_10_to_3 = outer()\n",
    "print(add_10_to_3())\n",
    "print(add_10_to_3.__closure__)"
   ]
  },
  {
   "cell_type": "markdown",
   "id": "4d740608",
   "metadata": {},
   "source": [
    "### [Partial Function Application](https://launchschool.com/lessons/ab8b995d/assignments/44c85684)\n",
    "\n",
    "1. A functional programming process of fixing a number of arguments to a function, producing another function of smaller **arity** _(fewer arguments)_\n",
    "\n",
    "2. The partially applied function is a version of the original function with some arguments already set\n",
    "\n",
    "3. Leverages closures in order to enclose the value of an argument in their scope"
   ]
  },
  {
   "cell_type": "code",
   "execution_count": null,
   "id": "23336c09",
   "metadata": {},
   "outputs": [
    {
     "name": "stdout",
     "output_type": "stream",
     "text": [
      "13\n"
     ]
    }
   ],
   "source": [
    "def add(x: int, y: int) -> int:\n",
    "    return x + y\n",
    "\n",
    "def make_adder(x):\n",
    "    def adder(y):\n",
    "        return add(x, y)\n",
    "    return adder\n",
    "\n",
    "add_10_to_num = make_adder(10)\n",
    "print(add_10_to_num(3))"
   ]
  },
  {
   "cell_type": "markdown",
   "id": "06610c71",
   "metadata": {},
   "source": [
    "### [Decorators](https://launchschool.com/lessons/ab8b995d/assignments/7fdecedf)\n",
    "\n",
    "1. A function that accepts a function and returns a function\n",
    "\n",
    "2. Stacked decorators execure from top down"
   ]
  },
  {
   "cell_type": "code",
   "execution_count": 76,
   "id": "796e0a9e",
   "metadata": {},
   "outputs": [
    {
     "name": "stdout",
     "output_type": "stream",
     "text": [
      "before the function is called.\n",
      "executing say_hello\n",
      "after the function is called. Return value is result='Hello!'\n"
     ]
    },
    {
     "data": {
      "text/plain": [
       "'Hello!'"
      ]
     },
     "execution_count": 76,
     "metadata": {},
     "output_type": "execute_result"
    }
   ],
   "source": [
    "def decorator(func):\n",
    "    def wrapper(*args, **kwargs):\n",
    "        print(\"before the function is called.\")\n",
    "        result = func(*args, **kwargs)\n",
    "        print(f\"after the function is called. Return value is {result=}\")\n",
    "        return result\n",
    "    return wrapper\n",
    "\n",
    "@decorator\n",
    "def say_hello():\n",
    "    print(\"executing say_hello\")\n",
    "    return \"Hello!\"\n",
    "\n",
    "say_hello()"
   ]
  },
  {
   "cell_type": "markdown",
   "id": "c6141565",
   "metadata": {},
   "source": [
    "### [Modules](https://launchschool.com/lessons/ab8b995d/assignments/1220652f)\n",
    "\n",
    "1. A file with a `.py` extension that contains Python code, such as definitions of functions, classes, and variables, as well as executable statements.\n",
    "\n",
    "2. The `__name__` global variable within the module provides its name as a string. This switches to \"__main__\" if the module is run directly.\n",
    "\n",
    "3. script vs module\n",
    "    - script is meant to be run on it's own\n",
    "\n",
    "    - module is meant to be imported into another file"
   ]
  },
  {
   "cell_type": "code",
   "execution_count": null,
   "id": "4daeef42",
   "metadata": {},
   "outputs": [],
   "source": [
    "import module\n",
    "import module as m\n",
    "from module import something as alias\n",
    "\n",
    "if __name__ == \"__main__\":\n",
    "    print(\"running as a script\")"
   ]
  },
  {
   "cell_type": "markdown",
   "id": "91d6b1bd",
   "metadata": {},
   "source": [
    "### [Pure Functions and Side Effects](https://launchschool.com/lessons/ab8b995d/assignments/741533ab)\n",
    "\n",
    "1. A function has a **side effect** if it:\n",
    "    - reassigns any non-local variable.\n",
    "    \n",
    "    - mutates the value of any object referenced by a non-local variable.\n",
    "   \n",
    "    - reads from or writes to any data entity (files, network connections, etc.) that is non-local to your program.\n",
    "   \n",
    "    - raises an exception that is not caught within the function.\n",
    "   \n",
    "    - calls another function that has any side effects that are not confined to the current function.\n",
    "\n",
    "2. A function is a **pure function** if:\n",
    "    - it has no side effects.\n",
    "    \n",
    "    - given the same set of arguments, the function always returns the same value during the function's lifetime.\n",
    "    \n",
    "    - the return value depends solely on its arguments.\n",
    "\n",
    "3. Most functions should return a _useful_ value or they should have a side effect, not both"
   ]
  },
  {
   "cell_type": "markdown",
   "id": "23b761c1",
   "metadata": {},
   "source": [
    "---\n",
    "## II. [Testing with Unittest](https://launchschool.com/lessons/69c6d544/assignments):"
   ]
  },
  {
   "cell_type": "markdown",
   "id": "f31fe534",
   "metadata": {},
   "source": [
    "### [Testing Terminology](https://launchschool.com/lessons/69c6d544/assignments/1a5f1151)\n",
    "\n",
    "1. **Test Suite**:  The entire set of tests that accompanies your program or application.\n",
    "\n",
    "2. **Test**: Describes a situation or context in which tests are run.\n",
    "\n",
    "3. **Assertion**: The verification step that confirms that your program is producing the results you expect. You make one or more assertions within each test.\n"
   ]
  },
  {
   "cell_type": "markdown",
   "id": "50104b5f",
   "metadata": {},
   "source": [
    "### [Writing and Running Tests with `unittest` Framework](https://launchschool.com/lessons/69c6d544/assignments/1a5f1151)"
   ]
  },
  {
   "cell_type": "code",
   "execution_count": null,
   "id": "12b9846c",
   "metadata": {},
   "outputs": [],
   "source": [
    "import unittest\n",
    "from CustomModule import CustomClass\n",
    "\n",
    "\n",
    "class TestCustomClass:\n",
    "    def setUp(self):\n",
    "        # This gets run before each test\n",
    "        self.custom = CustomClass()\n",
    "    \n",
    "    def tearDown(self):\n",
    "        # This gets run after each test\n",
    "        del self.custom\n",
    "\n",
    "    @unittest.skip      # to skip tests\n",
    "    def test_property_is_true(self):\n",
    "        self.assertTrue(self.custom.property)\n",
    "\n",
    "    def test_raise_typeerror(self):\n",
    "        with self.assertRaises(TypeError):  # use context manager to check for raising errors\n",
    "            custom = CustomClass(name=\"bob\")\n"
   ]
  },
  {
   "cell_type": "markdown",
   "id": "b4639ace",
   "metadata": {},
   "source": [
    "### [Utilizing Assertions for Testing Equality and Other Conditions](https://launchschool.com/lessons/69c6d544/assignments/c219bc4c)\n",
    "1. `assertTrue(x)` \t            Fails unless x is truthy\n",
    "\n",
    "2. `assertEqual(a, b)` \t        Checks that a == b\n",
    "\n",
    "3. `assertIsNone(x)` \t        Fails unless x is None\n",
    "\n",
    "4. `assertIsInstance(obj, cls)` Fails unless obj is an instance of cls\n",
    "\n",
    "5. `assertIn(obj, collection)` \tFails unless collection includes obj"
   ]
  },
  {
   "cell_type": "markdown",
   "id": "8bfbc259",
   "metadata": {},
   "source": [
    "### [SEAT approach](https://launchschool.com/lessons/69c6d544/assignments/8a0edfc8)\n",
    "\n",
    "1. **S**: set up necessary objects\n",
    "\n",
    "2. **E**: execute the code against the object we are testing\n",
    "\n",
    "3. **A**: assert the executed code did the correct action\n",
    "\n",
    "4. **T**: tear down and clean up lingering artifacts\n"
   ]
  },
  {
   "cell_type": "markdown",
   "id": "52e465d3",
   "metadata": {},
   "source": [
    "### [Understanding Code Coverage](https://launchschool.com/lessons/69c6d544/assignments/3ca41f04)\n",
    "\n",
    "1. Coverage is determined based on the percentage of functions or methods called by your tests or by the percentage of lines of code that executed as a result of your tests.\n",
    "\n",
    "2. `coverage` from PyPI\n",
    "\n",
    "```bash\n",
    "        pip install coverage\n",
    "\n",
    "        coverage run -m unittest discover\n",
    "\n",
    "        coverage report\n",
    "\n",
    "        coverage html\n",
    "```"
   ]
  },
  {
   "cell_type": "markdown",
   "id": "1df49e79",
   "metadata": {},
   "source": [
    "---\n",
    "## III. [Packaging Code](https://launchschool.com/lessons/e984a2ad/assignments):"
   ]
  },
  {
   "cell_type": "markdown",
   "id": "8fd675ec",
   "metadata": {},
   "source": [
    "### [Project Directory Layout](https://launchschool.com/lessons/e984a2ad/assignments/86ef018d)\n",
    "\n",
    "```bash\n",
    "your_package/\n",
    "    ├── src/\n",
    "    │   └── your_package_name/\n",
    "    │       ├── __init__.py\n",
    "    │       └── your_module.py\n",
    "    ├── tests/\n",
    "    │   └── test_your_module.py\n",
    "    ├── pyproject.toml\n",
    "    ├── README.md\n",
    "    └── LICENSE\n",
    "```\n",
    "| File / Folder        | Purpose                                                                     |\n",
    "| -------------------- | --------------------------------------------------------------------------- |\n",
    "| `src/`               | **Recommended**: Source layout to prevent accidental imports during testing |\n",
    "| `your_package_name/` | Your actual code package                                                    |\n",
    "| `__init__.py`        | Makes the directory a Python package                                        |\n",
    "| `your_module.py`     | Source code module(s)                                                       |\n",
    "| `tests/`             | Unit tests _(not required, but strongly recommended)_                       |\n",
    "| `test_your_module.py`| Test suite for your module(s)                                               |\n",
    "| `pyproject.toml`     | **Required**: Modern way to declare build system and metadata _(PEP 621)_   |\n",
    "| `README.md`          | Appears on PyPI project page; required for good documentation               |\n",
    "| `LICENSE`            | Legal license _(MIT, Apache, etc.)_                                         |"
   ]
  },
  {
   "cell_type": "markdown",
   "id": "082a3719",
   "metadata": {},
   "source": [
    "### [Using `pip` for Package Installation and Management](https://launchschool.com/lessons/e984a2ad/assignments/eef5f9eb)\n",
    "\n",
    "1. `pip` - pip installs packages\n",
    "\n",
    "2. Search for packages with [PyPI search page](https://pypi.org/search/)\n",
    "\n",
    "3. Common pip commands:\n",
    "\n",
    "```bash\n",
    "    # Normal install\n",
    "    pip install package-name\n",
    "\n",
    "    # Install a specific version\n",
    "    pip install requests==2.25.1\n",
    "\n",
    "    # Upgrade a specific package\n",
    "    pip install --upgrade requests\n",
    "\n",
    "    # List all installed packages\n",
    "    pip list\n",
    "\n",
    "    # Remove a package\n",
    "    pip uninstall requests\n",
    "\n",
    "    # Update pip itself\n",
    "    pip install --upgrade pip\n",
    "```"
   ]
  },
  {
   "cell_type": "markdown",
   "id": "69b3dff7",
   "metadata": {},
   "source": [
    "### [Packaging Projects](https://launchschool.com/lessons/e984a2ad/assignments/86ef018d)\n",
    "\n",
    "```bash\n",
    "    # Upgrade the build package to the latest version\n",
    "    $ pip install --upgrade build\n",
    "\n",
    "    # Build the distribution archive\n",
    "    $ python -m build\n",
    "\n",
    "    # Upgrade the twine package to the latest version\n",
    "    $ pip install --upgrade twine\n",
    "\n",
    "    # Upload the distribution archive\n",
    "    $ twine upload --repository testpypi dist/*"
   ]
  }
 ],
 "metadata": {
  "kernelspec": {
   "display_name": "Python 3",
   "language": "python",
   "name": "python3"
  },
  "language_info": {
   "codemirror_mode": {
    "name": "ipython",
    "version": 3
   },
   "file_extension": ".py",
   "mimetype": "text/x-python",
   "name": "python",
   "nbconvert_exporter": "python",
   "pygments_lexer": "ipython3",
   "version": "3.11.11"
  }
 },
 "nbformat": 4,
 "nbformat_minor": 5
}
